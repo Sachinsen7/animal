{
 "cells": [
  {
   "cell_type": "code",
   "execution_count": 7,
   "id": "aaa07411",
   "metadata": {},
   "outputs": [
    {
     "name": "stdout",
     "output_type": "stream",
     "text": [
      "jupyter notebook\n"
     ]
    }
   ],
   "source": [
    "print(\"jupyter notebook\")"
   ]
  },
  {
   "cell_type": "code",
   "execution_count": null,
   "id": "c0bdc93f",
   "metadata": {},
   "outputs": [],
   "source": []
  },
  {
   "cell_type": "markdown",
   "id": "461bdab3",
   "metadata": {},
   "source": [
    "## python "
   ]
  },
  {
   "cell_type": "markdown",
   "id": "e0ede79e",
   "metadata": {},
   "source": [
    "this is core pythin learning\n",
    "-- this\n"
   ]
  },
  {
   "cell_type": "code",
   "execution_count": 8,
   "id": "395570d9",
   "metadata": {},
   "outputs": [
    {
     "name": "stdout",
     "output_type": "stream",
     "text": [
      "0-1-2-3-4-5-6-"
     ]
    }
   ],
   "source": [
    "for i in range(7):\n",
    "    print(i, end=\"-\")\n"
   ]
  }
 ],
 "metadata": {
  "kernelspec": {
   "display_name": "base",
   "language": "python",
   "name": "python3"
  },
  "language_info": {
   "codemirror_mode": {
    "name": "ipython",
    "version": 3
   },
   "file_extension": ".py",
   "mimetype": "text/x-python",
   "name": "python",
   "nbconvert_exporter": "python",
   "pygments_lexer": "ipython3",
   "version": "3.13.5"
  }
 },
 "nbformat": 4,
 "nbformat_minor": 5
}
